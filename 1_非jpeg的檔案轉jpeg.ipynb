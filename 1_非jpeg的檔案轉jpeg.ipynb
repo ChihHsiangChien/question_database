{
 "cells": [
  {
   "cell_type": "code",
   "execution_count": 28,
   "metadata": {},
   "outputs": [],
   "source": [
    "import os\n",
    "\n",
    "from PIL import Image  \n",
    "import PIL"
   ]
  },
  {
   "cell_type": "code",
   "execution_count": 46,
   "metadata": {},
   "outputs": [
    {
     "name": "stdout",
     "output_type": "stream",
     "text": [
      "image1.png\n",
      "image11.png\n",
      "image12.png\n",
      "image13.png\n",
      "image14.png\n",
      "image15.png\n",
      "image31.png\n"
     ]
    }
   ],
   "source": [
    "#Image.open(\"xxx.wmf\").save(\"xxx.png\")\n",
    "#Image.open('old.jpeg').convert('RGB').save('new.jpeg')\n",
    "image_dir_path = os.path.join(os.getcwd(), r'zip\\01生命世界')\n",
    "for process_file in os.listdir(image_dir_path):\n",
    "    file, extension = os.path.splitext(process_file)\n",
    "    \n",
    "    if extension != '.jpeg':\n",
    "        print(file+extension)\n",
    "        im1 = Image.open(os.path.join(image_dir_path, file+extension))\n",
    "        im1 = im1.convert('RGB')\n",
    "        im1 = im1.save(os.path.join(image_dir_path, file+'.jpeg'))\n",
    "        os.remove(os.path.join(image_dir_path, file+extension))\n"
   ]
  },
  {
   "cell_type": "code",
   "execution_count": null,
   "metadata": {},
   "outputs": [],
   "source": [
    "\n",
    "folder='C:/Users/PythonLover/Pictures/pics'\n",
    "\n",
    "for oldfilename in os.listdir(folder):\n",
    "\n",
    "    if oldfilename.endswith(\".wmf\"):\n",
    "\n",
    "        with wima(filename=folder+'/'+oldfilename) as img:\n",
    "\n",
    "            newfilename = oldfilename.split('.')[0]+'.pdf'\n",
    "\n",
    "            newfilename = folder+'/'+newfilename\n",
    "\n",
    "            img.format = 'pdf'\n",
    "\n",
    "            img.save(filename=newfilename)"
   ]
  }
 ],
 "metadata": {
  "kernelspec": {
   "display_name": "Python 3",
   "language": "python",
   "name": "python3"
  },
  "language_info": {
   "codemirror_mode": {
    "name": "ipython",
    "version": 3
   },
   "file_extension": ".py",
   "mimetype": "text/x-python",
   "name": "python",
   "nbconvert_exporter": "python",
   "pygments_lexer": "ipython3",
   "version": "3.7.4"
  }
 },
 "nbformat": 4,
 "nbformat_minor": 2
}

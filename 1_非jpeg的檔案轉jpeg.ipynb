{
 "cells": [
  {
   "cell_type": "code",
   "execution_count": 1,
   "metadata": {
    "ExecuteTime": {
     "end_time": "2020-05-24T06:54:50.046173Z",
     "start_time": "2020-05-24T06:54:50.021081Z"
    }
   },
   "outputs": [],
   "source": [
    "import os\n",
    "\n",
    "from PIL import Image  \n",
    "import PIL"
   ]
  },
  {
   "cell_type": "code",
   "execution_count": 2,
   "metadata": {
    "ExecuteTime": {
     "end_time": "2020-05-24T06:54:51.502138Z",
     "start_time": "2020-05-24T06:54:51.416600Z"
    }
   },
   "outputs": [
    {
     "name": "stdout",
     "output_type": "stream",
     "text": [
      ".git\n"
     ]
    },
    {
     "ename": "IsADirectoryError",
     "evalue": "[Errno 21] Is a directory: '/media/shawn-pc/3T/題庫/question_database/.git'",
     "output_type": "error",
     "traceback": [
      "\u001b[0;31m---------------------------------------------------------------------------\u001b[0m",
      "\u001b[0;31mIsADirectoryError\u001b[0m                         Traceback (most recent call last)",
      "\u001b[0;32m<ipython-input-2-e06dc8d8c135>\u001b[0m in \u001b[0;36m<module>\u001b[0;34m\u001b[0m\n\u001b[1;32m      9\u001b[0m     \u001b[0;32mif\u001b[0m \u001b[0mextension\u001b[0m \u001b[0;34m!=\u001b[0m \u001b[0;34m'.jpeg'\u001b[0m\u001b[0;34m:\u001b[0m\u001b[0;34m\u001b[0m\u001b[0;34m\u001b[0m\u001b[0m\n\u001b[1;32m     10\u001b[0m         \u001b[0mprint\u001b[0m\u001b[0;34m(\u001b[0m\u001b[0mfile\u001b[0m\u001b[0;34m+\u001b[0m\u001b[0mextension\u001b[0m\u001b[0;34m)\u001b[0m\u001b[0;34m\u001b[0m\u001b[0;34m\u001b[0m\u001b[0m\n\u001b[0;32m---> 11\u001b[0;31m         \u001b[0mim1\u001b[0m \u001b[0;34m=\u001b[0m \u001b[0mImage\u001b[0m\u001b[0;34m.\u001b[0m\u001b[0mopen\u001b[0m\u001b[0;34m(\u001b[0m\u001b[0mos\u001b[0m\u001b[0;34m.\u001b[0m\u001b[0mpath\u001b[0m\u001b[0;34m.\u001b[0m\u001b[0mjoin\u001b[0m\u001b[0;34m(\u001b[0m\u001b[0mimage_dir_path\u001b[0m\u001b[0;34m,\u001b[0m \u001b[0mfile\u001b[0m\u001b[0;34m+\u001b[0m\u001b[0mextension\u001b[0m\u001b[0;34m)\u001b[0m\u001b[0;34m)\u001b[0m\u001b[0;34m\u001b[0m\u001b[0;34m\u001b[0m\u001b[0m\n\u001b[0m\u001b[1;32m     12\u001b[0m         \u001b[0mim1\u001b[0m \u001b[0;34m=\u001b[0m \u001b[0mim1\u001b[0m\u001b[0;34m.\u001b[0m\u001b[0mconvert\u001b[0m\u001b[0;34m(\u001b[0m\u001b[0;34m'RGB'\u001b[0m\u001b[0;34m)\u001b[0m\u001b[0;34m\u001b[0m\u001b[0;34m\u001b[0m\u001b[0m\n\u001b[1;32m     13\u001b[0m         \u001b[0mim1\u001b[0m \u001b[0;34m=\u001b[0m \u001b[0mim1\u001b[0m\u001b[0;34m.\u001b[0m\u001b[0msave\u001b[0m\u001b[0;34m(\u001b[0m\u001b[0mos\u001b[0m\u001b[0;34m.\u001b[0m\u001b[0mpath\u001b[0m\u001b[0;34m.\u001b[0m\u001b[0mjoin\u001b[0m\u001b[0;34m(\u001b[0m\u001b[0mimage_dir_path\u001b[0m\u001b[0;34m,\u001b[0m \u001b[0mfile\u001b[0m\u001b[0;34m+\u001b[0m\u001b[0;34m'.jpeg'\u001b[0m\u001b[0;34m)\u001b[0m\u001b[0;34m)\u001b[0m\u001b[0;34m\u001b[0m\u001b[0;34m\u001b[0m\u001b[0m\n",
      "\u001b[0;32m~/anaconda3/lib/python3.7/site-packages/PIL/Image.py\u001b[0m in \u001b[0;36mopen\u001b[0;34m(fp, mode)\u001b[0m\n\u001b[1;32m   2768\u001b[0m \u001b[0;34m\u001b[0m\u001b[0m\n\u001b[1;32m   2769\u001b[0m     \u001b[0;32mif\u001b[0m \u001b[0mfilename\u001b[0m\u001b[0;34m:\u001b[0m\u001b[0;34m\u001b[0m\u001b[0;34m\u001b[0m\u001b[0m\n\u001b[0;32m-> 2770\u001b[0;31m         \u001b[0mfp\u001b[0m \u001b[0;34m=\u001b[0m \u001b[0mbuiltins\u001b[0m\u001b[0;34m.\u001b[0m\u001b[0mopen\u001b[0m\u001b[0;34m(\u001b[0m\u001b[0mfilename\u001b[0m\u001b[0;34m,\u001b[0m \u001b[0;34m\"rb\"\u001b[0m\u001b[0;34m)\u001b[0m\u001b[0;34m\u001b[0m\u001b[0;34m\u001b[0m\u001b[0m\n\u001b[0m\u001b[1;32m   2771\u001b[0m         \u001b[0mexclusive_fp\u001b[0m \u001b[0;34m=\u001b[0m \u001b[0;32mTrue\u001b[0m\u001b[0;34m\u001b[0m\u001b[0;34m\u001b[0m\u001b[0m\n\u001b[1;32m   2772\u001b[0m \u001b[0;34m\u001b[0m\u001b[0m\n",
      "\u001b[0;31mIsADirectoryError\u001b[0m: [Errno 21] Is a directory: '/media/shawn-pc/3T/題庫/question_database/.git'"
     ]
    }
   ],
   "source": [
    "#Image.open(\"xxx.wmf\").save(\"xxx.png\")\n",
    "#Image.open('old.jpeg').convert('RGB').save('new.jpeg')\n",
    "\n",
    "image_dir_path = os.path.join(os.getcwd(), r'zip\\01生命世界')\n",
    "for process_file in os.listdir(image_dir_path):\n",
    "    file, extension = os.path.splitext(process_file)\n",
    "    \n",
    "    if extension != '.jpeg':\n",
    "        print(file+extension)\n",
    "        im1 = Image.open(os.path.join(image_dir_path, file+extension))\n",
    "        im1 = im1.convert('RGB')\n",
    "        im1 = im1.save(os.path.join(image_dir_path, file+'.jpeg'))\n",
    "        os.remove(os.path.join(image_dir_path, file+extension))\n"
   ]
  },
  {
   "cell_type": "code",
   "execution_count": null,
   "metadata": {},
   "outputs": [],
   "source": [
    "\n",
    "folder='C:/Users/PythonLover/Pictures/pics'\n",
    "\n",
    "for oldfilename in os.listdir(folder):\n",
    "\n",
    "    if oldfilename.endswith(\".wmf\"):\n",
    "\n",
    "        with wima(filename=folder+'/'+oldfilename) as img:\n",
    "\n",
    "            newfilename = oldfilename.split('.')[0]+'.pdf'\n",
    "\n",
    "            newfilename = folder+'/'+newfilename\n",
    "\n",
    "            img.format = 'pdf'\n",
    "\n",
    "            img.save(filename=newfilename)"
   ]
  },
  {
   "cell_type": "code",
   "execution_count": 10,
   "metadata": {
    "ExecuteTime": {
     "end_time": "2020-05-24T07:08:11.987976Z",
     "start_time": "2020-05-24T07:08:11.671563Z"
    }
   },
   "outputs": [
    {
     "name": "stdout",
     "output_type": "stream",
     "text": [
      "g59071.png\n",
      "2\n",
      "g59133.png\n",
      "3\n",
      "g59227.png\n",
      "4\n",
      "g59298.png\n",
      "5\n",
      "g59302.png\n",
      "6\n",
      "g59306.png\n",
      "7\n",
      "g59310.png\n",
      "8\n",
      "g59314.png\n",
      "9\n",
      "g59318.png\n",
      "10\n",
      "g59383.png\n",
      "11\n",
      "g59416.png\n",
      "12\n",
      "g59476.png\n",
      "13\n",
      "g59552.png\n",
      "14\n"
     ]
    }
   ],
   "source": [
    "#轉png成jpeg\n",
    "#並填充背景為白色\n",
    "image_dir_path = os.getcwd()\n",
    "newfilename = 1\n",
    "for process_file in os.listdir(image_dir_path):\n",
    "    file, extension = os.path.splitext(process_file)\n",
    "    \n",
    "    if extension == '.png':\n",
    "        print(file+extension)\n",
    "\n",
    "        im1 = Image.open(os.path.join(image_dir_path, file+extension))\n",
    "        x,y = im1.size\n",
    "        backgd = Image.new('RGBA', im1.size, (255,255,255))\n",
    "        backgd.paste(im1, (0, 0, x, y), im1)\n",
    "        im2 = backgd.convert('RGB')        \n",
    "        im2 = im2.save(os.path.join(image_dir_path, 'm' + str(newfilename) +'.jpeg'))\n",
    "        newfilename = newfilename + 1\n",
    "        print(newfilename)\n",
    "        os.remove(os.path.join(image_dir_path, file + extension))"
   ]
  },
  {
   "cell_type": "code",
   "execution_count": null,
   "metadata": {},
   "outputs": [],
   "source": []
  }
 ],
 "metadata": {
  "kernelspec": {
   "display_name": "Python 3",
   "language": "python",
   "name": "python3"
  },
  "language_info": {
   "codemirror_mode": {
    "name": "ipython",
    "version": 3
   },
   "file_extension": ".py",
   "mimetype": "text/x-python",
   "name": "python",
   "nbconvert_exporter": "python",
   "pygments_lexer": "ipython3",
   "version": "3.7.3"
  }
 },
 "nbformat": 4,
 "nbformat_minor": 2
}
